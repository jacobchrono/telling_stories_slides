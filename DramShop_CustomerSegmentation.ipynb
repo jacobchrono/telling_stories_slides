{
 "cells": [
  {
   "cell_type": "markdown",
   "id": "b63317b3",
   "metadata": {},
   "source": [
    "\n",
    "# Customer Segmentation Analysis Notebook\n",
    "\n",
    "This notebook replicates the visualizations from the Dram Shop Customer Segmentation presentation. \n",
    "Below, I specify a function to quickly replicate the graphs from our slideshow. \n",
    "\n",
    "---\n"
   ]
  },
  {
   "cell_type": "code",
   "execution_count": null,
   "id": "e797f22b",
   "metadata": {},
   "outputs": [],
   "source": [
    "import pandas as pd\n",
    "import matplotlib.pyplot as plt\n",
    "import seaborn as sns\n",
    "\n",
    "# Load data\n",
    "data = pd.read_csv('data/updated_customer_summary.csv')\n"
   ]
  },
  {
   "cell_type": "code",
   "execution_count": null,
   "id": "39880a7c",
   "metadata": {},
   "outputs": [],
   "source": [
    "# a function to create plots\n",
    "\n",
    "def plot_with_custom_style(data, categorical_var, dependent_var, title, order=None, plot_type=\"bar\", \n",
    "                           stacked=False, orientation=\"vertical\", hue=None):\n",
    "    \"\"\"\n",
    "    Creates a customized bar, count, stacked, or horizontal plot with a consistent styling format.\n",
    "    \n",
    "    Parameters:\n",
    "    - data (DataFrame): The dataset containing the variables to plot.\n",
    "    - categorical_var (str): The name of the categorical variable.\n",
    "    - dependent_var (str): The name of the dependent variable, shown as percentages if set to \"proportion\".\n",
    "    - title (str): The title of the plot, aligned to the left.\n",
    "    - order (list, optional): Specific order for the categorical variable.\n",
    "    - plot_type (str, optional): Type of plot to create. Options are \"bar\" for bar plot and \"count\" for count plot. Default is \"bar\".\n",
    "    - stacked (bool, optional): If True, creates a stacked bar chart. Only applicable for `plot_type=\"bar\"` and requires `hue`.\n",
    "    - orientation (str, optional): Orientation of the bars, either \"vertical\" or \"horizontal\". Default is \"vertical\".\n",
    "    - hue (str, optional): Variable name in `data` for color segmentation (used for stacked or grouped bars).\n",
    "    \n",
    "    Usage Example:\n",
    "    ```python\n",
    "    plot_with_custom_style(data, categorical_var='customer_segment', \n",
    "                           dependent_var='average_tip', title='Average Tip by Customer Segment', orientation='horizontal')\n",
    "    ```\n",
    "    \"\"\"\n",
    "    plt.figure(figsize=(10, 6))\n",
    "    sns.set_style(\"darkgrid\", {\"axes.facecolor\": \"#000000\", \"grid.color\": \"gray\"})\n",
    "    sns.set_context(\"talk\")\n",
    "    \n",
    "    # Adjust orientation of the plot\n",
    "    x, y = (categorical_var, dependent_var) if orientation == \"vertical\" else (dependent_var, categorical_var)\n",
    "    \n",
    "    # Plot selection\n",
    "    if plot_type == \"bar\":\n",
    "        if stacked and hue:  # Stacked bar plot\n",
    "            # Pivot data for stacked bar plot\n",
    "            pivot_data = data.pivot_table(index=categorical_var, columns=hue, values=dependent_var, aggfunc='sum').fillna(0)\n",
    "            pivot_data.plot(kind='bar', stacked=True, color=sns.color_palette(\"coolwarm\", len(pivot_data.columns)), figsize=(10, 6))\n",
    "            plt.legend(title=hue)\n",
    "        else:  # Regular bar plot (vertical or horizontal)\n",
    "            sns.barplot(x=x, y=y, data=data, order=order, hue=hue, color=\"steelblue\" if not hue else None, ci=None)\n",
    "    elif plot_type == \"count\":\n",
    "        sns.countplot(x=x, data=data, order=order, hue=hue, color=\"steelblue\" if not hue else None)\n",
    "\n",
    "    # Customize plot appearance\n",
    "    plt.title(title, loc='left', color='white')\n",
    "    plt.xlabel('', color='white')\n",
    "    plt.ylabel(dependent_var.replace('_', ' ').title() if orientation == \"vertical\" else categorical_var.replace('_', ' ').title(), color='white')\n",
    "    plt.xticks(rotation=0, color='white')\n",
    "    plt.yticks(color='white')\n",
    "\n",
    "    # Set axis to display as percentages if the dependent variable is a proportion\n",
    "    if dependent_var == \"proportion\":\n",
    "        if orientation == \"vertical\":\n",
    "            ticks = plt.yticks()[0]  # Get current y-ticks\n",
    "            plt.yticks(ticks=ticks, labels=[f'{int(tick * 100)}%' for tick in ticks], color='white')\n",
    "        else:  # Horizontal orientation\n",
    "            ticks = plt.xticks()[0]  # Get current x-ticks\n",
    "            plt.xticks(ticks=ticks, labels=[f'{int(tick * 100)}%' for tick in ticks], color='white')\n",
    "\n",
    "    sns.despine(top=True, right=True)\n",
    "    plt.show()\n",
    "    plt. "
   ]
  },
  {
   "cell_type": "code",
   "execution_count": null,
   "id": "fb28d1b7",
   "metadata": {},
   "outputs": [],
   "source": [
    "plot_with_custom_style(data, categorical_var='customer_term', dependent_var='average_tip', title='Average Tip by Customer Segment')"
   ]
  }
 ],
 "metadata": {
  "kernelspec": {
   "display_name": "Python 3",
   "language": "python",
   "name": "python3"
  },
  "language_info": {
   "codemirror_mode": {
    "name": "ipython",
    "version": 3
   },
   "file_extension": ".py",
   "mimetype": "text/x-python",
   "name": "python",
   "nbconvert_exporter": "python",
   "pygments_lexer": "ipython3",
   "version": "3.13.0"
  }
 },
 "nbformat": 4,
 "nbformat_minor": 5
}
