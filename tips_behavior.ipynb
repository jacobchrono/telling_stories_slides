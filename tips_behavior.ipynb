{
 "cells": [
  {
   "cell_type": "markdown",
   "metadata": {},
   "source": [
    "This is notebook to do some EDA on average tips by various categorial variables."
   ]
  },
  {
   "cell_type": "code",
   "execution_count": 3,
   "metadata": {},
   "outputs": [],
   "source": [
    "# Import necessary libraries\n",
    "import pandas as pd\n",
    "import numpy as np\n",
    "import matplotlib.pyplot as plt\n",
    "import seaborn as sns\n",
    "from ipywidgets import widgets, interact\n",
    "from scipy.stats import f_oneway\n",
    "from statsmodels.stats.multicomp import pairwise_tukeyhsd\n",
    "import statsmodels.api as sm"
   ]
  },
  {
   "cell_type": "code",
   "execution_count": 4,
   "metadata": {},
   "outputs": [
    {
     "data": {
      "application/vnd.jupyter.widget-view+json": {
       "model_id": "c8b4ef521eb54694898cb0e25311925b",
       "version_major": 2,
       "version_minor": 0
      },
      "text/plain": [
       "interactive(children=(Dropdown(description='Category:', options=('favorite_item_meta_category', 'favorite_cate…"
      ]
     },
     "metadata": {},
     "output_type": "display_data"
    },
    {
     "data": {
      "text/plain": [
       "<function __main__.visualize_tips(categorical_variable)>"
      ]
     },
     "execution_count": 4,
     "metadata": {},
     "output_type": "execute_result"
    }
   ],
   "source": [
    "\n",
    "# Load the data\n",
    "data_path = 'data/20241029-customer-summary.csv'\n",
    "data = pd.read_csv(data_path)\n",
    "\n",
    "# Calculate average_tip\n",
    "data['average_tip'] = data['total_tips'] / data['total_orders']\n",
    "\n",
    "# Define the function to generate visualizations and analysis\n",
    "def visualize_tips(categorical_variable):\n",
    "    # Drop rows with NaN values in selected categorical variable and average_tip\n",
    "    plot_data = data.dropna(subset=[categorical_variable, 'average_tip'])\n",
    "    \n",
    "    # Boxplot of average_tip by selected categorical variable\n",
    "    plt.figure(figsize=(10, 6))\n",
    "    sns.boxplot(x=categorical_variable, y='average_tip', data=plot_data)\n",
    "    plt.title(f'Boxplot of Average Tip by {categorical_variable}')\n",
    "    plt.xticks(rotation=45)\n",
    "    plt.show()\n",
    "\n",
    "    # Bar plot of average_tip by selected categorical variable\n",
    "    avg_tips = plot_data.groupby(categorical_variable)['average_tip'].mean().reset_index()\n",
    "    plt.figure(figsize=(10, 6))\n",
    "    sns.barplot(x=categorical_variable, y='average_tip', data=avg_tips)\n",
    "    plt.title(f'Bar Plot of Average Tip by {categorical_variable}')\n",
    "    plt.xticks(rotation=45)\n",
    "    plt.show()\n",
    "\n",
    "    # Perform ANOVA\n",
    "    groups = [group['average_tip'].values for name, group in plot_data.groupby(categorical_variable)]\n",
    "    anova_result = f_oneway(*groups)\n",
    "    print(f\"ANOVA Result:\\nF-statistic = {anova_result.statistic}, p-value = {anova_result.pvalue}\\n\")\n",
    "\n",
    "    # Tukey's HSD for pairwise comparison\n",
    "    tukey_result = pairwise_tukeyhsd(endog=plot_data['average_tip'], groups=plot_data[categorical_variable], alpha=0.05)\n",
    "    print(\"Tukey's HSD Pairwise Comparisons:\\n\", tukey_result.summary())\n",
    "\n",
    "# Create a dropdown widget for categorical variable selection\n",
    "categorical_dropdown = widgets.Dropdown(\n",
    "    options=['favorite_item_meta_category', 'favorite_category_meta_category'],\n",
    "    value='favorite_item_meta_category',\n",
    "    description='Category:',\n",
    ")\n",
    "\n",
    "# Link the dropdown to the function\n",
    "interact(visualize_tips, categorical_variable=categorical_dropdown)\n",
    "\n",
    "# Instructions to add new categorical variables\n",
    "# If you wish to add more categorical variables, ensure they are in the data as columns.\n",
    "# Then, simply add them to the options list in the categorical_dropdown widget above.\n"
   ]
  },
  {
   "cell_type": "markdown",
   "metadata": {},
   "source": [
    "The code below adds an additional categorial varible."
   ]
  },
  {
   "cell_type": "code",
   "execution_count": null,
   "metadata": {},
   "outputs": [
    {
     "data": {
      "application/vnd.jupyter.widget-view+json": {
       "model_id": "820cad16049c49cdad6f52acb0d3daeb",
       "version_major": 2,
       "version_minor": 0
      },
      "text/plain": [
       "interactive(children=(Dropdown(description='Category:', options=('favorite_item_meta_category', 'favorite_cate…"
      ]
     },
     "metadata": {},
     "output_type": "display_data"
    },
    {
     "data": {
      "text/plain": [
       "<function __main__.visualize_tips(categorical_variable)>"
      ]
     },
     "execution_count": 5,
     "metadata": {},
     "output_type": "execute_result"
    }
   ],
   "source": [
    "\n",
    "# Load the data\n",
    "data_path = 'data/20241029-customer-summary.csv'\n",
    "data = pd.read_csv(data_path)\n",
    "\n",
    "# Calculate average_tip\n",
    "data['average_tip'] = data['total_tips'] / data['total_orders']\n",
    "\n",
    "# Create the customer_type categorical variable based on total_orders\n",
    "def categorize_customer(total_orders):\n",
    "    if total_orders <= 10:\n",
    "        return 'casual'\n",
    "    elif total_orders <= 25:\n",
    "        return 'repeat'\n",
    "    elif total_orders <= 100:\n",
    "        return 'regular'\n",
    "    else:\n",
    "        return 'die-hard'\n",
    "\n",
    "data['customer_type'] = data['total_orders'].apply(categorize_customer)\n",
    "\n",
    "# Define the function to generate visualizations and analysis\n",
    "def visualize_tips(categorical_variable):\n",
    "    # Drop rows with NaN values in selected categorical variable and average_tip\n",
    "    plot_data = data.dropna(subset=[categorical_variable, 'average_tip'])\n",
    "    \n",
    "    # Boxplot of average_tip by selected categorical variable\n",
    "    plt.figure(figsize=(10, 6))\n",
    "    sns.boxplot(x=categorical_variable, y='average_tip', data=plot_data)\n",
    "    plt.title(f'Boxplot of Average Tip by {categorical_variable}')\n",
    "    plt.xticks(rotation=45)\n",
    "    plt.show()\n",
    "\n",
    "    # Bar plot of average_tip by selected categorical variable\n",
    "    avg_tips = plot_data.groupby(categorical_variable)['average_tip'].mean().reset_index()\n",
    "    plt.figure(figsize=(10, 6))\n",
    "    sns.barplot(x=categorical_variable, y='average_tip', data=avg_tips)\n",
    "    plt.title(f'Bar Plot of Average Tip by {categorical_variable}')\n",
    "    plt.xticks(rotation=45)\n",
    "    plt.show()\n",
    "\n",
    "    # Perform ANOVA\n",
    "    groups = [group['average_tip'].values for name, group in plot_data.groupby(categorical_variable)]\n",
    "    anova_result = f_oneway(*groups)\n",
    "    print(f\"ANOVA Result:\\nF-statistic = {anova_result.statistic}, p-value = {anova_result.pvalue}\\n\")\n",
    "\n",
    "    # Tukey's HSD for pairwise comparison\n",
    "    tukey_result = pairwise_tukeyhsd(endog=plot_data['average_tip'], groups=plot_data[categorical_variable], alpha=0.05)\n",
    "    print(\"Tukey's HSD Pairwise Comparisons:\\n\", tukey_result.summary())\n",
    "\n",
    "# Create a dropdown widget for categorical variable selection\n",
    "categorical_dropdown = widgets.Dropdown(\n",
    "    options=['favorite_item_meta_category', 'favorite_category_meta_category', 'customer_type'],\n",
    "    value='favorite_item_meta_category',\n",
    "    description='Category:',\n",
    ")\n",
    "\n",
    "# Link the dropdown to the function\n",
    "interact(visualize_tips, categorical_variable=categorical_dropdown)\n"
   ]
  },
  {
   "cell_type": "markdown",
   "metadata": {},
   "source": [
    "The variable I created doesn't seem to be that great."
   ]
  },
  {
   "cell_type": "code",
   "execution_count": 6,
   "metadata": {},
   "outputs": [
    {
     "data": {
      "application/vnd.jupyter.widget-view+json": {
       "model_id": "c3518e98f5eb465791373615c5455777",
       "version_major": 2,
       "version_minor": 0
      },
      "text/plain": [
       "interactive(children=(Dropdown(description='Category:', options=('favorite_item_meta_category', 'favorite_cate…"
      ]
     },
     "metadata": {},
     "output_type": "display_data"
    },
    {
     "data": {
      "text/plain": [
       "<function __main__.visualize_data(categorical_variable, dependent_variable, filter_orders)>"
      ]
     },
     "execution_count": 6,
     "metadata": {},
     "output_type": "execute_result"
    }
   ],
   "source": [
    "\n",
    "# Load the data\n",
    "data_path = 'data/20241029-customer-summary.csv'\n",
    "data = pd.read_csv(data_path)\n",
    "\n",
    "# Calculate average_tip\n",
    "data['average_tip'] = data['total_tips'] / data['total_orders']\n",
    "\n",
    "# Create the customer_type categorical variable based on total_orders\n",
    "def categorize_customer(total_orders):\n",
    "    if total_orders <= 10:\n",
    "        return 'casual'\n",
    "    elif total_orders <= 25:\n",
    "        return 'repeat'\n",
    "    elif total_orders <= 100:\n",
    "        return 'regular'\n",
    "    else:\n",
    "        return 'die-hard'\n",
    "\n",
    "data['customer_type'] = data['total_orders'].apply(categorize_customer)\n",
    "\n",
    "# Define the function to generate visualizations and analysis\n",
    "def visualize_data(categorical_variable, dependent_variable, filter_orders):\n",
    "    # Optionally filter data to customers with more than one order\n",
    "    plot_data = data[data['total_orders'] > 1] if filter_orders else data\n",
    "    plot_data = plot_data.dropna(subset=[categorical_variable, dependent_variable])\n",
    "    \n",
    "    # Boxplot of selected dependent variable by chosen categorical variable\n",
    "    plt.figure(figsize=(10, 6))\n",
    "    sns.boxplot(x=categorical_variable, y=dependent_variable, data=plot_data)\n",
    "    plt.title(f'Boxplot of {dependent_variable} by {categorical_variable}')\n",
    "    plt.xticks(rotation=45)\n",
    "    plt.show()\n",
    "\n",
    "    # Bar plot of the mean of the selected dependent variable by chosen categorical variable\n",
    "    avg_data = plot_data.groupby(categorical_variable)[dependent_variable].mean().reset_index()\n",
    "    plt.figure(figsize=(10, 6))\n",
    "    sns.barplot(x=categorical_variable, y=dependent_variable, data=avg_data)\n",
    "    plt.title(f'Bar Plot of {dependent_variable} by {categorical_variable}')\n",
    "    plt.xticks(rotation=45)\n",
    "    plt.show()\n",
    "\n",
    "    # Perform ANOVA\n",
    "    groups = [group[dependent_variable].values for name, group in plot_data.groupby(categorical_variable)]\n",
    "    anova_result = f_oneway(*groups)\n",
    "    print(f\"ANOVA Result:\\nF-statistic = {anova_result.statistic}, p-value = {anova_result.pvalue}\\n\")\n",
    "\n",
    "    # Tukey's HSD for pairwise comparison\n",
    "    tukey_result = pairwise_tukeyhsd(endog=plot_data[dependent_variable], groups=plot_data[categorical_variable], alpha=0.05)\n",
    "    print(\"Tukey's HSD Pairwise Comparisons:\\n\", tukey_result.summary())\n",
    "\n",
    "# Create dropdown widgets for selecting categorical and dependent variables\n",
    "categorical_dropdown = widgets.Dropdown(\n",
    "    options=['favorite_item_meta_category', 'favorite_category_meta_category', 'customer_type'],\n",
    "    value='favorite_item_meta_category',\n",
    "    description='Category:',\n",
    ")\n",
    "\n",
    "dependent_dropdown = widgets.Dropdown(\n",
    "    options=['average_tip', 'total_orders', 'average_order_value', 'total_spent'],\n",
    "    value='average_tip',\n",
    "    description='Dependent Variable:',\n",
    ")\n",
    "\n",
    "# Checkbox widget for filtering data\n",
    "filter_checkbox = widgets.Checkbox(\n",
    "    value=False,\n",
    "    description='Only customers with more than one order',\n",
    ")\n",
    "\n",
    "# Link the widgets to the function\n",
    "interact(visualize_data, \n",
    "         categorical_variable=categorical_dropdown, \n",
    "         dependent_variable=dependent_dropdown,\n",
    "         filter_orders=filter_checkbox)\n",
    "\n",
    "# Instructions to add new categorical variables\n",
    "# If you wish to add more categorical variables, ensure they are in the data as columns.\n",
    "# Then, simply add them to the options list in the categorical_dropdown widget above.\n"
   ]
  },
  {
   "cell_type": "code",
   "execution_count": 8,
   "metadata": {},
   "outputs": [
    {
     "name": "stderr",
     "output_type": "stream",
     "text": [
      "C:\\Users\\jakeq\\AppData\\Local\\Temp\\ipykernel_27132\\990340421.py:48: SettingWithCopyWarning: \n",
      "A value is trying to be set on a copy of a slice from a DataFrame.\n",
      "Try using .loc[row_indexer,col_indexer] = value instead\n",
      "\n",
      "See the caveats in the documentation: https://pandas.pydata.org/pandas-docs/stable/user_guide/indexing.html#returning-a-view-versus-a-copy\n",
      "  recent_data['customer_term'] = recent_data['first_order_date'].apply(categorize_customer_term)\n"
     ]
    },
    {
     "data": {
      "application/vnd.jupyter.widget-view+json": {
       "model_id": "6845c4d976dd4230af2ae3a9df4a76e3",
       "version_major": 2,
       "version_minor": 0
      },
      "text/plain": [
       "interactive(children=(Dropdown(description='Category:', options=('favorite_item_meta_category', 'favorite_cate…"
      ]
     },
     "metadata": {},
     "output_type": "display_data"
    },
    {
     "data": {
      "text/plain": [
       "<function __main__.visualize_data(categorical_variable, dependent_variable, filter_orders)>"
      ]
     },
     "execution_count": 8,
     "metadata": {},
     "output_type": "execute_result"
    }
   ],
   "source": [
    "# Import necessary libraries\n",
    "import pandas as pd\n",
    "import numpy as np\n",
    "import matplotlib.pyplot as plt\n",
    "import seaborn as sns\n",
    "from ipywidgets import widgets, interact\n",
    "from scipy.stats import f_oneway\n",
    "from statsmodels.stats.multicomp import pairwise_tukeyhsd\n",
    "import statsmodels.api as sm\n",
    "\n",
    "# Load the data\n",
    "data_path = 'data/20241029-customer-summary.csv'\n",
    "data = pd.read_csv(data_path)\n",
    "\n",
    "# Parse date columns and remove timezone information\n",
    "data['first_order_date'] = pd.to_datetime(data['first_order_date'], errors='coerce').dt.tz_localize(None)\n",
    "data['last_order_date'] = pd.to_datetime(data['last_order_date'], errors='coerce').dt.tz_localize(None)\n",
    "\n",
    "# Calculate average_tip\n",
    "data['average_tip'] = data['total_tips'] / data['total_orders']\n",
    "\n",
    "# Filter data for recent customers (last order between Oct 14, 2023, and Oct 14, 2024)\n",
    "recent_data = data[(data['last_order_date'] >= '2023-10-14') & (data['last_order_date'] <= '2024-10-14')]\n",
    "\n",
    "# Create the customer_type categorical variable based on total_orders\n",
    "def categorize_customer(total_orders):\n",
    "    if total_orders <= 10:\n",
    "        return 'casual'\n",
    "    elif total_orders <= 25:\n",
    "        return 'repeat'\n",
    "    elif total_orders <= 100:\n",
    "        return 'regular'\n",
    "    else:\n",
    "        return 'die-hard'\n",
    "\n",
    "data['customer_type'] = data['total_orders'].apply(categorize_customer)\n",
    "\n",
    "# Create customer_term based on first_order_date for recent customers\n",
    "def categorize_customer_term(first_order_date):\n",
    "    if pd.Timestamp('2015-01-01') <= first_order_date <= pd.Timestamp('2017-12-31'):\n",
    "        return 'long-term'\n",
    "    elif pd.Timestamp('2018-01-01') <= first_order_date <= pd.Timestamp('2021-12-31'):\n",
    "        return 'medium-term'\n",
    "    elif pd.Timestamp('2022-01-01') <= first_order_date <= pd.Timestamp('2024-12-31'):\n",
    "        return 'short-term'\n",
    "    return np.nan\n",
    "\n",
    "recent_data['customer_term'] = recent_data['first_order_date'].apply(categorize_customer_term)\n",
    "data = pd.concat([data, recent_data[['customer_term']]], axis=1)\n",
    "\n",
    "# Define the function to generate visualizations and analysis\n",
    "def visualize_data(categorical_variable, dependent_variable, filter_orders):\n",
    "    # Optionally filter data to customers with more than one order\n",
    "    plot_data = data[data['total_orders'] > 1] if filter_orders else data\n",
    "    plot_data = plot_data.dropna(subset=[categorical_variable, dependent_variable])\n",
    "    \n",
    "    # Boxplot of selected dependent variable by chosen categorical variable\n",
    "    plt.figure(figsize=(10, 6))\n",
    "    sns.boxplot(x=categorical_variable, y=dependent_variable, data=plot_data)\n",
    "    plt.title(f'Boxplot of {dependent_variable} by {categorical_variable}')\n",
    "    plt.xticks(rotation=45)\n",
    "    plt.show()\n",
    "\n",
    "    # Bar plot of the mean of the selected dependent variable by chosen categorical variable\n",
    "    avg_data = plot_data.groupby(categorical_variable)[dependent_variable].mean().reset_index()\n",
    "    plt.figure(figsize=(10, 6))\n",
    "    sns.barplot(x=categorical_variable, y=dependent_variable, data=avg_data)\n",
    "    plt.title(f'Bar Plot of {dependent_variable} by {categorical_variable}')\n",
    "    plt.xticks(rotation=45)\n",
    "    plt.show()\n",
    "\n",
    "    # Perform ANOVA\n",
    "    groups = [group[dependent_variable].values for name, group in plot_data.groupby(categorical_variable)]\n",
    "    anova_result = f_oneway(*groups)\n",
    "    print(f\"ANOVA Result:\\nF-statistic = {anova_result.statistic}, p-value = {anova_result.pvalue}\\n\")\n",
    "\n",
    "    # Tukey's HSD for pairwise comparison\n",
    "    tukey_result = pairwise_tukeyhsd(endog=plot_data[dependent_variable], groups=plot_data[categorical_variable], alpha=0.05)\n",
    "    print(\"Tukey's HSD Pairwise Comparisons:\\n\", tukey_result.summary())\n",
    "\n",
    "# Create dropdown widgets for selecting categorical and dependent variables\n",
    "categorical_dropdown = widgets.Dropdown(\n",
    "    options=['favorite_item_meta_category', 'favorite_category_meta_category', 'customer_type', 'customer_term'],\n",
    "    value='favorite_item_meta_category',\n",
    "    description='Category:',\n",
    ")\n",
    "\n",
    "dependent_dropdown = widgets.Dropdown(\n",
    "    options=['average_tip', 'total_orders', 'average_order_value', 'total_spent'],\n",
    "    value='average_tip',\n",
    "    description='Dependent Variable:',\n",
    ")\n",
    "\n",
    "# Checkbox widget for filtering data\n",
    "filter_checkbox = widgets.Checkbox(\n",
    "    value=False,\n",
    "    description='Only customers with more than one order',\n",
    ")\n",
    "\n",
    "# Link the widgets to the function\n",
    "interact(visualize_data, \n",
    "         categorical_variable=categorical_dropdown, \n",
    "         dependent_variable=dependent_dropdown,\n",
    "         filter_orders=filter_checkbox)\n",
    "\n",
    "# Instructions to add new categorical variables\n",
    "# If you wish to add more categorical variables, ensure they are in the data as columns.\n",
    "# Then, simply add them to the options list in the categorical_dropdown widget above.\n"
   ]
  }
 ],
 "metadata": {
  "kernelspec": {
   "display_name": "Python 3",
   "language": "python",
   "name": "python3"
  },
  "language_info": {
   "codemirror_mode": {
    "name": "ipython",
    "version": 3
   },
   "file_extension": ".py",
   "mimetype": "text/x-python",
   "name": "python",
   "nbconvert_exporter": "python",
   "pygments_lexer": "ipython3",
   "version": "3.12.5"
  }
 },
 "nbformat": 4,
 "nbformat_minor": 2
}
